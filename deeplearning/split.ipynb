{
 "cells": [
  {
   "cell_type": "markdown",
   "metadata": {},
   "source": [
    "# 데이터 분리"
   ]
  },
  {
   "cell_type": "code",
   "execution_count": 2,
   "metadata": {},
   "outputs": [
    {
     "name": "stdout",
     "output_type": "stream",
     "text": [
      "라벨 수 : 300\n",
      "이미지 수 : 300\n"
     ]
    }
   ],
   "source": [
    "from glob import glob\n",
    "\n",
    "a = \"valid\"\n",
    "labels = glob(f'{a}/*.txt')\n",
    "data = glob(f'{a}/*.jpg')\n",
    "\n",
    "print(\"라벨 수 :\",len(labels))\n",
    "print(\"이미지 수 :\", len(data))"
   ]
  },
  {
   "cell_type": "code",
   "execution_count": 7,
   "metadata": {},
   "outputs": [],
   "source": [
    "# 새로운 폴더에 이동 \n",
    "import shutil\n",
    "\n",
    "folder = f\"{a}_split/labels\"\n",
    "\n",
    "for path in labels:\n",
    "    shutil.move(path, folder)"
   ]
  },
  {
   "cell_type": "code",
   "execution_count": 3,
   "metadata": {},
   "outputs": [],
   "source": [
    "# 새로운 폴더에 이동 \n",
    "import shutil\n",
    "\n",
    "folder = f\"{a}_split/valid\"\n",
    "\n",
    "for path in data:\n",
    "    shutil.move(path, folder)"
   ]
  },
  {
   "cell_type": "markdown",
   "metadata": {},
   "source": [
    "# .yaml 파일 만들어보기"
   ]
  },
  {
   "cell_type": "code",
   "execution_count": 12,
   "metadata": {},
   "outputs": [
    {
     "name": "stdout",
     "output_type": "stream",
     "text": [
      "YOLO 학습용 YAML 파일이 생성되었습니다.\n"
     ]
    }
   ],
   "source": [
    "import yaml\n",
    "\n",
    "data = {\n",
    "    'train': r'C:\\Users\\Admin\\Desktop\\Homework\\automobile\\train',\n",
    "    'val': r'C:\\Users\\Admin\\Desktop\\Homework\\automobile\\valid',\n",
    "    'nc': 5,  # 클래스 수\n",
    "    'names': ['car', 'truck', 'bus', 'autobycle', 'pedestrian']  # 클래스 이름\n",
    "}\n",
    "\n",
    "# YAML 파일로 저장\n",
    "with open('automobile.yaml', 'w') as file:\n",
    "    yaml.dump(data, file, default_flow_style=False, allow_unicode=True)\n",
    "\n",
    "print(\"YOLO 학습용 YAML 파일이 생성되었습니다.\")\n"
   ]
  }
 ],
 "metadata": {
  "kernelspec": {
   "display_name": "ori4_env_310",
   "language": "python",
   "name": "python3"
  },
  "language_info": {
   "codemirror_mode": {
    "name": "ipython",
    "version": 3
   },
   "file_extension": ".py",
   "mimetype": "text/x-python",
   "name": "python",
   "nbconvert_exporter": "python",
   "pygments_lexer": "ipython3",
   "version": "3.10.14"
  }
 },
 "nbformat": 4,
 "nbformat_minor": 2
}
